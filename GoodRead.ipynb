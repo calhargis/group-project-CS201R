{
 "cells": [
  {
   "cell_type": "code",
   "execution_count": 90,
   "metadata": {},
   "outputs": [],
   "source": [
    "import pandas as pd\n",
    "import numpy as np\n",
    "import matplotlib as plt\n",
    "import re\n",
    "from sklearn.feature_extraction.text import CountVectorizer\n",
    "from sklearn.metrics.pairwise import linear_kernel\n",
    "import heapq"
   ]
  },
  {
   "cell_type": "code",
   "execution_count": 4,
   "metadata": {},
   "outputs": [
    {
     "data": {
      "text/html": [
       "<div>\n",
       "<style scoped>\n",
       "    .dataframe tbody tr th:only-of-type {\n",
       "        vertical-align: middle;\n",
       "    }\n",
       "\n",
       "    .dataframe tbody tr th {\n",
       "        vertical-align: top;\n",
       "    }\n",
       "\n",
       "    .dataframe thead th {\n",
       "        text-align: right;\n",
       "    }\n",
       "</style>\n",
       "<table border=\"1\" class=\"dataframe\">\n",
       "  <thead>\n",
       "    <tr style=\"text-align: right;\">\n",
       "      <th></th>\n",
       "      <th>author</th>\n",
       "      <th>bookformat</th>\n",
       "      <th>desc</th>\n",
       "      <th>genre</th>\n",
       "      <th>img</th>\n",
       "      <th>isbn</th>\n",
       "      <th>isbn13</th>\n",
       "      <th>link</th>\n",
       "      <th>pages</th>\n",
       "      <th>rating</th>\n",
       "      <th>reviews</th>\n",
       "      <th>title</th>\n",
       "      <th>totalratings</th>\n",
       "    </tr>\n",
       "  </thead>\n",
       "  <tbody>\n",
       "    <tr>\n",
       "      <th>0</th>\n",
       "      <td>Laurence M. Hauptman</td>\n",
       "      <td>Hardcover</td>\n",
       "      <td>Reveals that several hundred thousand Indians ...</td>\n",
       "      <td>History,Military History,Civil War,American Hi...</td>\n",
       "      <td>https://i.gr-assets.com/images/S/compressed.ph...</td>\n",
       "      <td>002914180X</td>\n",
       "      <td>9.78E+12</td>\n",
       "      <td>https://goodreads.com/book/show/1001053.Betwee...</td>\n",
       "      <td>0</td>\n",
       "      <td>3.52</td>\n",
       "      <td>5</td>\n",
       "      <td>Between Two Fires: American Indians in the Civ...</td>\n",
       "      <td>33</td>\n",
       "    </tr>\n",
       "    <tr>\n",
       "      <th>1</th>\n",
       "      <td>Charlotte Fiell,Emmanuelle Dirix</td>\n",
       "      <td>Paperback</td>\n",
       "      <td>Fashion Sourcebook - 1920s is the first book i...</td>\n",
       "      <td>Couture,Fashion,Historical,Art,Nonfiction</td>\n",
       "      <td>https://i.gr-assets.com/images/S/compressed.ph...</td>\n",
       "      <td>1906863482</td>\n",
       "      <td>9.78E+12</td>\n",
       "      <td>https://goodreads.com/book/show/10010552-fashi...</td>\n",
       "      <td>576</td>\n",
       "      <td>4.51</td>\n",
       "      <td>6</td>\n",
       "      <td>Fashion Sourcebook 1920s</td>\n",
       "      <td>41</td>\n",
       "    </tr>\n",
       "    <tr>\n",
       "      <th>2</th>\n",
       "      <td>Andy Anderson</td>\n",
       "      <td>Paperback</td>\n",
       "      <td>The seminal history and analysis of the Hungar...</td>\n",
       "      <td>Politics,History</td>\n",
       "      <td>https://i.gr-assets.com/images/S/compressed.ph...</td>\n",
       "      <td>948984147</td>\n",
       "      <td>9.78E+12</td>\n",
       "      <td>https://goodreads.com/book/show/1001077.Hungar...</td>\n",
       "      <td>124</td>\n",
       "      <td>4.15</td>\n",
       "      <td>2</td>\n",
       "      <td>Hungary 56</td>\n",
       "      <td>26</td>\n",
       "    </tr>\n",
       "    <tr>\n",
       "      <th>3</th>\n",
       "      <td>Carlotta R. Anderson</td>\n",
       "      <td>Hardcover</td>\n",
       "      <td>\"All-American Anarchist\" chronicles the life a...</td>\n",
       "      <td>Labor,History</td>\n",
       "      <td>https://i.gr-assets.com/images/S/compressed.ph...</td>\n",
       "      <td>814327079</td>\n",
       "      <td>9.78E+12</td>\n",
       "      <td>https://goodreads.com/book/show/1001079.All_Am...</td>\n",
       "      <td>324</td>\n",
       "      <td>3.83</td>\n",
       "      <td>1</td>\n",
       "      <td>All-American Anarchist: Joseph A. Labadie and ...</td>\n",
       "      <td>6</td>\n",
       "    </tr>\n",
       "    <tr>\n",
       "      <th>4</th>\n",
       "      <td>Jean Leveille</td>\n",
       "      <td>NaN</td>\n",
       "      <td>Aujourdâ€™hui, lâ€™oiseau nous invite Ã  sa ta...</td>\n",
       "      <td>NaN</td>\n",
       "      <td>https://i.gr-assets.com/images/S/compressed.ph...</td>\n",
       "      <td>2761920813</td>\n",
       "      <td>NaN</td>\n",
       "      <td>https://goodreads.com/book/show/10010880-les-o...</td>\n",
       "      <td>177</td>\n",
       "      <td>4.00</td>\n",
       "      <td>1</td>\n",
       "      <td>Les oiseaux gourmands</td>\n",
       "      <td>1</td>\n",
       "    </tr>\n",
       "  </tbody>\n",
       "</table>\n",
       "</div>"
      ],
      "text/plain": [
       "                             author bookformat  \\\n",
       "0              Laurence M. Hauptman  Hardcover   \n",
       "1  Charlotte Fiell,Emmanuelle Dirix  Paperback   \n",
       "2                     Andy Anderson  Paperback   \n",
       "3              Carlotta R. Anderson  Hardcover   \n",
       "4                     Jean Leveille        NaN   \n",
       "\n",
       "                                                desc  \\\n",
       "0  Reveals that several hundred thousand Indians ...   \n",
       "1  Fashion Sourcebook - 1920s is the first book i...   \n",
       "2  The seminal history and analysis of the Hungar...   \n",
       "3  \"All-American Anarchist\" chronicles the life a...   \n",
       "4  Aujourdâ€™hui, lâ€™oiseau nous invite Ã  sa ta...   \n",
       "\n",
       "                                               genre  \\\n",
       "0  History,Military History,Civil War,American Hi...   \n",
       "1          Couture,Fashion,Historical,Art,Nonfiction   \n",
       "2                                   Politics,History   \n",
       "3                                      Labor,History   \n",
       "4                                                NaN   \n",
       "\n",
       "                                                 img        isbn    isbn13  \\\n",
       "0  https://i.gr-assets.com/images/S/compressed.ph...  002914180X  9.78E+12   \n",
       "1  https://i.gr-assets.com/images/S/compressed.ph...  1906863482  9.78E+12   \n",
       "2  https://i.gr-assets.com/images/S/compressed.ph...   948984147  9.78E+12   \n",
       "3  https://i.gr-assets.com/images/S/compressed.ph...   814327079  9.78E+12   \n",
       "4  https://i.gr-assets.com/images/S/compressed.ph...  2761920813       NaN   \n",
       "\n",
       "                                                link  pages  rating  reviews  \\\n",
       "0  https://goodreads.com/book/show/1001053.Betwee...      0    3.52        5   \n",
       "1  https://goodreads.com/book/show/10010552-fashi...    576    4.51        6   \n",
       "2  https://goodreads.com/book/show/1001077.Hungar...    124    4.15        2   \n",
       "3  https://goodreads.com/book/show/1001079.All_Am...    324    3.83        1   \n",
       "4  https://goodreads.com/book/show/10010880-les-o...    177    4.00        1   \n",
       "\n",
       "                                               title  totalratings  \n",
       "0  Between Two Fires: American Indians in the Civ...            33  \n",
       "1                           Fashion Sourcebook 1920s            41  \n",
       "2                                         Hungary 56            26  \n",
       "3  All-American Anarchist: Joseph A. Labadie and ...             6  \n",
       "4                              Les oiseaux gourmands             1  "
      ]
     },
     "execution_count": 4,
     "metadata": {},
     "output_type": "execute_result"
    }
   ],
   "source": [
    "df = pd.read_csv('GoodReads_100k_books.csv')\n",
    "df.head()"
   ]
  },
  {
   "cell_type": "code",
   "execution_count": 5,
   "metadata": {},
   "outputs": [
    {
     "name": "stdout",
     "output_type": "stream",
     "text": [
      "\u001b[38;5;2m✔ Download and installation successful\u001b[0m\n",
      "You can now load the package via spacy.load('en_core_web_sm')\n",
      "\u001b[38;5;3m⚠ Restart to reload dependencies\u001b[0m\n",
      "If you are in a Jupyter or Colab notebook, you may need to restart Python in\n",
      "order to load all the package's dependencies. You can do this by selecting the\n",
      "'Restart kernel' or 'Restart runtime' option.\n"
     ]
    }
   ],
   "source": [
    "import spacy\n",
    "spacy.cli.download('en_core_web_sm')"
   ]
  },
  {
   "cell_type": "code",
   "execution_count": 11,
   "metadata": {},
   "outputs": [
    {
     "name": "stderr",
     "output_type": "stream",
     "text": [
      "[nltk_data] Downloading package stopwords to\n",
      "[nltk_data]     C:\\Users\\brend\\AppData\\Roaming\\nltk_data...\n",
      "[nltk_data]   Unzipping corpora\\stopwords.zip.\n",
      "[nltk_data] Downloading package wordnet to\n",
      "[nltk_data]     C:\\Users\\brend\\AppData\\Roaming\\nltk_data...\n",
      "[nltk_data] Downloading package averaged_perceptron_tagger to\n",
      "[nltk_data]     C:\\Users\\brend\\AppData\\Roaming\\nltk_data...\n",
      "[nltk_data]   Unzipping taggers\\averaged_perceptron_tagger.zip.\n",
      "[nltk_data] Downloading package words to\n",
      "[nltk_data]     C:\\Users\\brend\\AppData\\Roaming\\nltk_data...\n",
      "[nltk_data]   Unzipping corpora\\words.zip.\n",
      "[nltk_data] Downloading package omw-1.4 to\n",
      "[nltk_data]     C:\\Users\\brend\\AppData\\Roaming\\nltk_data...\n"
     ]
    },
    {
     "data": {
      "text/plain": [
       "True"
      ]
     },
     "execution_count": 11,
     "metadata": {},
     "output_type": "execute_result"
    }
   ],
   "source": [
    "from nltk.stem import WordNetLemmatizer\n",
    "import nltk\n",
    "from nltk.stem import WordNetLemmatizer\n",
    "from nltk.corpus import wordnet\n",
    "nltk.download('stopwords')\n",
    "nltk.download('wordnet')\n",
    "nltk.download('averaged_perceptron_tagger')\n",
    "nltk.download('words')\n",
    "nltk.download('omw-1.4')"
   ]
  },
  {
   "cell_type": "code",
   "execution_count": 6,
   "metadata": {},
   "outputs": [],
   "source": [
    "nlp = spacy.load('en_core_web_sm')"
   ]
  },
  {
   "cell_type": "code",
   "execution_count": 75,
   "metadata": {},
   "outputs": [],
   "source": [
    "# Get root of each of the words\n",
    "REPLACE_NON_ASCII = re.compile(\"[^\\x00-x7f]+\")\n",
    "REPLACE_NO_SPACE = re.compile(\"[;:!\\'\\’?,\\\"()\\[\\]]\")\n",
    "\n",
    "def preprocess(texts):\n",
    "    texts = [REPLACE_NON_ASCII.sub(\"\", row) for row in texts]\n",
    "    texts = [REPLACE_NO_SPACE.sub(\"\", row.lower()) for row in texts]\n",
    "    documents = []\n",
    "    for text in texts:\n",
    "        documents.append(nlp(text))\n",
    "    doclemmas = []\n",
    "    for doc in documents:\n",
    "        doclemmas.append([token.lemma_ for token in doc])\n",
    "    corpus = []\n",
    "    for lemmas in doclemmas:\n",
    "        corpus.append(' '.join(lemmas).lower())\n",
    "    return corpus\n",
    "\n",
    "def get_lemmed(corpus):\n",
    "    lemmatizer = WordNetLemmatizer()\n",
    "    corpus = [' '.join([lemmatizer.lemmatize(word, pos='v') for word in review.split()]) for review in corpus]\n",
    "    return [' '.join([lemmatizer.lemmatize(word, pos='n') for word in review.split()]) for review in corpus]\n",
    "\n",
    "def preprocess(texts):\n",
    "    # print(texts)\n",
    "    # for text in texts:\n",
    "    #     if len(str(text)) == 0:\n",
    "    #         continue    \n",
    "    for i in range(len(texts)):\n",
    "        texts[i] = str(texts[i])\n",
    "        if texts[i] == \"nan\":\n",
    "            texts[i] = \"\"\n",
    "    REPLACE_NON_ASCII = re.compile(\"[^\\x00-\\x7F]+\")\n",
    "    REPLACE_NO_SPACE = re.compile(\"[;:!\\'\\’?,\\\"()\\[\\]]\")\n",
    "    texts = [REPLACE_NON_ASCII.sub(\"\", row) for row in texts]\n",
    "    texts = [REPLACE_NO_SPACE.sub(\"\", row.lower()) for row in texts]\n",
    "    texts = get_lemmed(texts)\n",
    "    texts = [x.lower() for x in texts]\n",
    "    return texts\n"
   ]
  },
  {
   "cell_type": "code",
   "execution_count": 14,
   "metadata": {},
   "outputs": [
    {
     "name": "stdout",
     "output_type": "stream",
     "text": [
      "['this be a sample text for test']\n"
     ]
    }
   ],
   "source": [
    "sample = \"This is a sample text for testing\"\n",
    "clean_text = preprocess([sample])\n",
    "print(clean_text)"
   ]
  },
  {
   "cell_type": "code",
   "execution_count": 12,
   "metadata": {},
   "outputs": [
    {
     "data": {
      "text/plain": [
       "0        Reveals that several hundred thousand Indians ...\n",
       "1        Fashion Sourcebook - 1920s is the first book i...\n",
       "2        The seminal history and analysis of the Hungar...\n",
       "3        \"All-American Anarchist\" chronicles the life a...\n",
       "4        Aujourdâ€™hui, lâ€™oiseau nous invite Ã  sa ta...\n",
       "                               ...                        \n",
       "99995    Design custom printed circuit boards with EAGL...\n",
       "99996    Redefining tradition in learning accounting. ,...\n",
       "99997    In these warm reflections on his own growth as...\n",
       "99998    John Brown is a man of many legacies, from her...\n",
       "99999    Did you know that interest in UFO research inc...\n",
       "Name: desc, Length: 100000, dtype: object"
      ]
     },
     "execution_count": 12,
     "metadata": {},
     "output_type": "execute_result"
    }
   ],
   "source": [
    "df['desc']"
   ]
  },
  {
   "cell_type": "code",
   "execution_count": 95,
   "metadata": {},
   "outputs": [
    {
     "name": "stderr",
     "output_type": "stream",
     "text": [
      "C:\\Users\\brend\\AppData\\Local\\Temp\\ipykernel_16632\\2282408193.py:5: SettingWithCopyWarning: \n",
      "A value is trying to be set on a copy of a slice from a DataFrame.\n",
      "Try using .loc[row_indexer,col_indexer] = value instead\n",
      "\n",
      "See the caveats in the documentation: https://pandas.pydata.org/pandas-docs/stable/user_guide/indexing.html#returning-a-view-versus-a-copy\n",
      "  df2['desc-clean'] = text_clean\n"
     ]
    },
    {
     "data": {
      "text/plain": [
       "0        reveal that several hundred thousand indian be...\n",
       "1        fashion sourcebook - 1920s be the first book i...\n",
       "2        the seminal history and analysis of the hungar...\n",
       "3        all-american anarchist chronicle the life and ...\n",
       "4        aujourdhui loiseau nous invite sa table table ...\n",
       "                               ...                        \n",
       "9996     the essay in this collection address how the v...\n",
       "9997     from the author of the acclaim best seller the...\n",
       "9998     abraham lincoln stand out in a crowd a much fo...\n",
       "9999     present the detail and dramatic ritual for eac...\n",
       "10000    winner of the lincoln prizelincoln at cooper u...\n",
       "Name: desc-clean, Length: 10001, dtype: object"
      ]
     },
     "execution_count": 95,
     "metadata": {},
     "output_type": "execute_result"
    }
   ],
   "source": [
    "df2 = df.loc[:10000]\n",
    "orig = df2['desc'].tolist()\n",
    "text_clean = preprocess(orig)\n",
    "\n",
    "df2['desc-clean'] = text_clean\n",
    "df2['desc-clean']\n",
    "\n",
    "# df2 = df[:1]\n",
    "# df2['desc-clean'] = df2['desc']\n",
    "# df2['desc-clean'] =df2['desc-clean'].apply(lambda x: preprocess(str(x)))\n",
    "# df2['desc-clean']\n",
    "# corpus = preprocess(df['desc'])"
   ]
  },
  {
   "cell_type": "code",
   "execution_count": 27,
   "metadata": {},
   "outputs": [
    {
     "name": "stdout",
     "output_type": "stream",
     "text": [
      "nan\n"
     ]
    }
   ],
   "source": [
    "print(df['desc'].iloc[30])"
   ]
  },
  {
   "cell_type": "code",
   "execution_count": 96,
   "metadata": {},
   "outputs": [
    {
     "data": {
      "text/plain": [
       "<10001x641624 sparse matrix of type '<class 'numpy.int64'>'\n",
       "\twith 1258710 stored elements in Compressed Sparse Row format>"
      ]
     },
     "execution_count": 96,
     "metadata": {},
     "output_type": "execute_result"
    }
   ],
   "source": [
    "cv = CountVectorizer(stop_words='english', ngram_range=(1,2))\n",
    "stopwords = []\n",
    "for word in cv.get_stop_words():\n",
    "    if word != 'not':\n",
    "        stopwords.append(word)\n",
    "cv = CountVectorizer(stop_words=stopwords, ngram_range=(1,2))\n",
    "X = cv.fit_transform(df2['desc-clean'])\n",
    "X"
   ]
  },
  {
   "cell_type": "code",
   "execution_count": 97,
   "metadata": {},
   "outputs": [
    {
     "name": "stdout",
     "output_type": "stream",
     "text": [
      "[[ 35.   0.   1. ...   6.   0.   0.]\n",
      " [  0. 205.   1. ...   6.   2.   5.]\n",
      " [  1.   1.  27. ...   1.   1.   0.]\n",
      " ...\n",
      " [  6.   6.   1. ... 205.   2.  40.]\n",
      " [  0.   2.   1. ...   2. 129.   0.]\n",
      " [  0.   5.   0. ...  40.   0. 307.]]\n"
     ]
    }
   ],
   "source": [
    "cosine_sim = linear_kernel(X, X)\n",
    "print(cosine_sim)"
   ]
  },
  {
   "cell_type": "code",
   "execution_count": 106,
   "metadata": {},
   "outputs": [
    {
     "name": "stdout",
     "output_type": "stream",
     "text": [
      "['artificial intelligence ethic']\n",
      "  (0, 37628)\t1\n",
      "  (0, 37632)\t1\n",
      "  (0, 191546)\t1\n",
      "  (0, 289993)\t1\n",
      "[[0. 0. 0. ... 0. 0. 0.]]\n",
      "John Sowa integrates logic, philosophy, linguistics, and computer science into this study of knowledge and its various models and implementations. His definitive new book shows how techniques of artificial intelligence, database design, and object-oriented programming help make knowledge explicit in a form that computer systems can use. The first three chapters are devoted to logic, ontology, and computable models of reality. Remaining chapters apply theories to the analysis of problems stated in ordinary language, and their translation to computable form. The text is self-contained, with each new idea defined when first mentioned; all formalism is developed in the body of the text or summarized in an appendix. Knowledge Representation is appropriate for advanced undergraduate and graduate students in computer science, as well as philosophy and linguistics students with some background in artificial intelligence or programming.\n"
     ]
    }
   ],
   "source": [
    "myStrings = [\"artificial intelligence ethics\"]\n",
    "myStrings = preprocess(myStrings)\n",
    "print(myStrings)\n",
    "\n",
    "new_x = cv.transform(myStrings)\n",
    "print(new_x)\n",
    "\n",
    "cosine_sim2 = linear_kernel(new_x, X)\n",
    "print(cosine_sim2)\n",
    "\n",
    "most_similar_index = np.argmax(cosine_sim2)\n",
    "most_similar_book = orig[most_similar_index]\n",
    "print(most_similar_book)"
   ]
  },
  {
   "cell_type": "code",
   "execution_count": 107,
   "metadata": {},
   "outputs": [
    {
     "name": "stdout",
     "output_type": "stream",
     "text": [
      "Top  10  most similar strings:\n",
      "Score:  6.0 >>  Knowledge Representation: Logical, Philosophical, and Computational Foundations  >>>  John Sowa integrates logic, philosophy, linguistics, and computer science into this study of knowledge and its various models and implementations. His definitive new book shows how techniques of artificial intelligence, database design, and object-oriented programming help make knowledge explicit in a form that computer systems can use. The first three chapters are devoted to logic, ontology, and computable models of reality. Remaining chapters apply theories to the analysis of problems stated in ordinary language, and their translation to computable form. The text is self-contained, with each new idea defined when first mentioned; all formalism is developed in the body of the text or summarized in an appendix. Knowledge Representation is appropriate for advanced undergraduate and graduate students in computer science, as well as philosophy and linguistics students with some background in artificial intelligence or programming.\n",
      "\n",
      "Score:  5.0 >>  Contemporary Jewish Ethics and Morality: A Reader  >>>  Over the past decade much significant new work has appeared in the field of Jewish ethics. While much of this work has been devoted to issues in applied ethics, a number of important essays have explored central themes within the tradition and clarified the theoretical foundations of Jewish ethics. This important text grew out of the need for a single work which accurately and conveniently reflects these developments within the field.,The first text of its kind in almost two decades, ,Contemporary Jewish Ethics and Morality, presents wide-ranging and carefully organized recent essays on Jewish ethical theory and practice. Serving as an introduction to Jewish ethics, it acquaints the student with the distinctive methodological issues involved and offers a sampling of Jewish positions on contemporary moral problems. The book features work from both traditionalist and liberal contributors, making this the only volume which encompasses the full range of contemporary Jewish ethical perspectives. Writers such as Harold Schulweis, Judith Plaskow, David Novak, David Hartman, and Blu Greenberg discuss law and ethics, natural law, humility, justice, sex and the family, euthanasia, and other vital issues relating to modern Judaism. Many of the readings appear here for the first time, making this important text the most timely sourcebook in its field. Uniquely qualified to reflect the high level and depth of contemporary work in this area of study, ,Contemporary Jewish Ethics and Morality, is an essential contribution to any course dealing with Jewish ethics.\n",
      "\n",
      "Score:  5.0 >>  The Strongest Poison  >>>  Jim Jones hired Lane & Don Freed in '78 to help make the case of what he alleged to be a \"grand conspiracy\" by intelligence agencies against the Peoples Temple. Jones told Lane he wanted to \"pull an Eldridge Cleaver\", referring to the fugitive Black Panther who was able to return to the USA after repairing his reputation. Lane visited Jonestown in 9/78 & spoke to residents who provided support for the theory that intelligence agencies conspired against them & drew parallels between Martin Luther King & Jim Jones. Lane then held press conferences stating \"none of the charges\" against the Temple \"are accurate or true\" & that there was a conspiracy against the Temple by \"intelligence organizations,\" naming the CIA, FBI, FCC & Post Office. Lane represented himself as disinterested, but the Temple paid him $6k monthly. Regarding the effect of the work of Lane & Freed upon members, Temple member Annie Moore wrote that \"Mom & Dad have probably shown you the latest about the conspiracy information that Mark Lane, the famous attorney in the ML King case & Don Freed the other famous author in the Kennedy case have come up with regarding activities planned against us--Peoples Temple.\" Another member, Carolyn Layton, wrote that Freed told them that \"anything this drug out could be nothing less than conspiracy\"., Lane was present in Jonestown during the events of 11/18/78, when over 900 Temple members died in murder-suicide by cyanide, & Rep. Leo Ryan & four others were murdered at a nearby airstrip. For months before that tragedy, Jones frequently created fear among members by stating that the CIA & other intelligence agencies were conspiring with \"capitalist pigs\" to destroy Jonestown & harm its members. This included mentions of CIA involvement in the address Jones gave the day before the arrival of Ryan., During the visit of Ryan, Lane helped represent the Temple with its other attorney, Charles R. Garry, who was furious with Lane for holding numerous press conferences & alleging the existence of conspiracies against the Temple. Garry was also displeased with him for making a veiled threat that the Temple might move to the USSR in a letter to Ryan., Late in the afternoon of 11/18, two men wielding rifles approached Lane & Garry, who'd earlier been sent to a small wooden house by Jones. It's unclear whether the men were sent to kill them, but one recognized Garry as an attorney in a trial he'd attended. After a friendly exchange, the men told Garry & Lane that they were going to \"commit revolutionary suicide\" to \"expose this racist & fascist society\". The gunmen then gave Garry & Lane directions to exit Jonestown. Garry & Lane hid in the jungle while events unfolded., On a tape made while members committed suicide by ingesting poisoned punch, the reason given by Jones to commit suicide was consistent with Jones' previously stated theories of intelligence organizations allegedly conspiring against the Temple, that men would \"parachute in here on us\", \"shoot some of our innocent babies\" & \"they'll torture our children, they'll torture some of our people here, they'll torture our seniors\". Parroting Jones' prior statements that hostile forces would convert captured children to Fascism, one temple member stated \"the ones that they take captured, they're gonna just let them grow up and be dummies\". Annie Moore & Carolyn Layton were among the 900 who died., Lane later wrote about the tragedy in The Strongest Poison. He reported hearing automatic weapons & suspects US forces killed Jonestown survivors. While Lane blames Jones & Temple leadership for the deaths, he also claims that US officials exacerbated the possibility of violence by employing agents provocateur. For example, Lane claimed that Temple attorney & later defector Timothy Stoen, who Lane alleged had repeatedly prompted the Temple to take radical action before defecting, \"had evidently led three lives\", one as a government informant.\n",
      "\n",
      "Score:  4.0 >>  Doctor Who: Downtime  >>>  \"Find the Locus\",Â  ,Â Â Â Â  It is twenty years since The Great Intelligence last attempted an invasion of Earth, today its evil web is again reaching out towards us!Â  Using The New World University as its cover and the zombie-like Chilly students as its pawns, the Intelligence now seeks to control the minds of every human being.,Â Â Â  Tangled in this new struggle are its old enemies Victoria Waterfield and Professor Travers - but whose side are they on?Â  Fighting alone this time, without their famous scientific advisor, The Brigadier and Sarah Jane Smith of UNIT are hard pressed to decide who is friend or foe as they search for the missing Locus which still binds the Intelligence's power. Battle is joined as the Brigadier's own family is threatened and UNIT faces a monstrous new breed of Yeti! ,Â Â Â  Victoria Waterfield searches for clues that her father might still be alive, while the Brigadier has family problems of his own. But the Great Intelligence is preparing to invade Earth again and this time the Doctor's not there to stop it. ,This is a sequel to The Abominable Snowmen and The Web of Fear, but also follows up Evil of the Daleks and Fury from the Deep.\n",
      "\n",
      "Score:  4.0 >>  Foundations of Computer Science  >>>  Based on the ACM model curriculum guidelines, this easy-to-read and easy-to-navigate text covers all the fundamentals of computer science required for first year students embarking on a computing degree. Divided into five parts computer and data, computer hardware, computer software, data organization and with an introduction to some of the more advanced topics Foundations of Computer Science gives students a bird's eye view of the subject. Each chapter includes key terms, summaries, review questions, multiple-choice questions, and exercises to enhance learning, while introducing tools such as UML, structure chart and pseudocode, which students will need in order to succeed in later courses. The text is also supported by numerous figures, examples, exercises, selected solutions and a test bank, all designed to ease and aid the learning process. Updated to cover the latest technologies and changes to course requirements, this second edition features new and updated coverage of: Artificial Intelligence, Computer Ethics and Crimes, Networking, LINUX, and Security.\n",
      "\n",
      "Score:  3.0 >>  Extensions of First-Order Logic  >>>  Classical logic has proved inadequate in various areas of computer science, artificial intelligence, mathematics, philosopy and linguistics. This is an introduction to extensions of first-order logic, based on the principle that many-sorted logic (MSL) provides a unifying framework in which to place, for example, second-order logic, type theory, modal and dynamic logics and MSL itself. The aim is two fold: only one theorem-prover is needed; proofs of the metaproperties of the different existing calculi can be avoided by borrowing them from MSL. To make the book accessible to readers from different disciplines, whilst maintaining precision, the author has supplied detailed step-by-step proofs, avoiding difficult arguments, and continually motivating the material with examples. Consequently this can be used as a reference, for self-teaching or for first-year graduate courses.\n",
      "\n",
      "Score:  3.0 >>  On Kubrick  >>>  This book is aÂ critical study of Stanley Kubrick's career, beginning with his earliest feature, ,Fear and Desire, (1953), and ending with his posthumous production of ,A.I., Artificial Intelligence, (2001). This book argues that in several respects Kubrick was one of the cinema's last modernists.\n",
      "\n",
      "Score:  3.0 >>  Blind Spots: Why We Fail to Do What's Right and What to Do about It  >>>  When confronted with an ethical dilemma, most of us like to think we would stand up for our principles. But we are not as ethical as we think we are. In ,Blind Spots,, leading business ethicists Max Bazerman and Ann Tenbrunsel examine the ways we overestimate our ability to do what is right and how we act unethically without meaning to. From the collapse of Enron and corruption in the tobacco industry, to sales of the defective Ford Pinto, the downfall of Bernard Madoff, and the Challenger space shuttle disaster, the authors investigate the nature of ethical failures in the business world and beyond, and illustrate how we can become more ethical, bridging the gap between who we are and who we want to be.,Explaining why traditional approaches to ethics don't work, the book considers how blind spots like ethical fading--the removal of ethics from the decision--making process--have led to tragedies and scandals such as the ,Challenger, space shuttle disaster, steroid use in Major League Baseball, the crash in the financial markets, and the energy crisis. The authors demonstrate how ethical standards shift, how we neglect to notice and act on the unethical behavior of others, and how compliance initiatives can actually promote unethical behavior. They argue that scandals will continue to emerge unless such approaches take into account the psychology of individuals faced with ethical dilemmas. Distinguishing our should self (the person who knows what is correct) from our want self (the person who ends up making decisions), the authors point out ethical sinkholes that create questionable actions.,Suggesting innovative individual and group tactics for improving human judgment, ,Blind Spots, shows us how to secure a place for ethics in our workplaces, institutions, and daily lives.\n",
      "\n",
      "Score:  3.0 >>  Planning Algorithms  >>>  Planning algorithms are impacting technical disciplines and industries around the world, including robotics, computer-aided design, manufacturing, computer graphics, aerospace applications, drug design, and protein folding. Written for computer scientists and engineers with interests in artificial intelligence, robotics, or control theory, this is the only book on this topic that tightly integrates a vast body of literature from several fields into a coherent source for teaching and reference in a wide variety of applications. Difficult mathematical material is explained through hundreds of examples and illustrations.\n",
      "\n",
      "Score:  3.0 >>  Building Moral Intelligence: The Seven Essential Virtues That Teach Kids to Do the Right Thing  >>>  Gain a new understanding of moral intelligence, and a step-by-step program for its achievement from bestselling author, Michele Borba. In this indispensable book for parents, Borba has created a new break-through in conceptualizing and teaching virtue, character and values under the auspices of a measurable capacity -- Moral Intelligence. This book confronts the front-page crisis we now face in our country regarding youth violence, alienation, self-destructive behavior, cold-heartedness, lack of compassion, insensitivity, intolerance and the break down of values. The author provides a new way to understand, evaluate and inspire our kids with the seven essential virtues which comprise moral intelligence.\n",
      "\n"
     ]
    }
   ],
   "source": [
    "top_n = 10\n",
    "\n",
    "top_similar_indices = heapq.nlargest(top_n, range(len(cosine_sim2[0])), cosine_sim2[0].take)\n",
    "print(\"Top \", top_n, \" most similar strings:\")\n",
    "for idx in top_similar_indices:\n",
    "    print(\"Score: \", cosine_sim2[0, idx], \">> \", df['title'].iloc[idx], \" >>> \", orig[idx])\n",
    "    print()\n"
   ]
  }
 ],
 "metadata": {
  "kernelspec": {
   "display_name": "base",
   "language": "python",
   "name": "python3"
  },
  "language_info": {
   "codemirror_mode": {
    "name": "ipython",
    "version": 3
   },
   "file_extension": ".py",
   "mimetype": "text/x-python",
   "name": "python",
   "nbconvert_exporter": "python",
   "pygments_lexer": "ipython3",
   "version": "3.9.12"
  }
 },
 "nbformat": 4,
 "nbformat_minor": 2
}
