{
 "cells": [
  {
   "cell_type": "code",
   "execution_count": 4,
   "metadata": {},
   "outputs": [],
   "source": [
    "import pandas as pd\n",
    "import numpy as np\n",
    "import matplotlib as plt\n",
    "import re"
   ]
  },
  {
   "cell_type": "code",
   "execution_count": 22,
   "metadata": {},
   "outputs": [
    {
     "name": "stderr",
     "output_type": "stream",
     "text": [
      "C:\\Users\\brend\\AppData\\Local\\Temp\\ipykernel_21776\\2293142090.py:1: DtypeWarning: Columns (3) have mixed types. Specify dtype option on import or set low_memory=False.\n",
      "  grouped_df = pd.read_csv('grouped-data.csv')\n"
     ]
    },
    {
     "data": {
      "text/html": [
       "<div>\n",
       "<style scoped>\n",
       "    .dataframe tbody tr th:only-of-type {\n",
       "        vertical-align: middle;\n",
       "    }\n",
       "\n",
       "    .dataframe tbody tr th {\n",
       "        vertical-align: top;\n",
       "    }\n",
       "\n",
       "    .dataframe thead th {\n",
       "        text-align: right;\n",
       "    }\n",
       "</style>\n",
       "<table border=\"1\" class=\"dataframe\">\n",
       "  <thead>\n",
       "    <tr style=\"text-align: right;\">\n",
       "      <th></th>\n",
       "      <th>Unnamed: 0</th>\n",
       "      <th>User-ID</th>\n",
       "      <th>ISBN</th>\n",
       "      <th>Year-Of-Publication</th>\n",
       "      <th>Book-Author</th>\n",
       "      <th>Book-Rating</th>\n",
       "    </tr>\n",
       "  </thead>\n",
       "  <tbody>\n",
       "    <tr>\n",
       "      <th>0</th>\n",
       "      <td>0</td>\n",
       "      <td>2</td>\n",
       "      <td>0195153448</td>\n",
       "      <td>2002</td>\n",
       "      <td>Mark P. O. Morford</td>\n",
       "      <td>0.0</td>\n",
       "    </tr>\n",
       "    <tr>\n",
       "      <th>1</th>\n",
       "      <td>1</td>\n",
       "      <td>8</td>\n",
       "      <td>0002005018</td>\n",
       "      <td>2001</td>\n",
       "      <td>Richard Bruce Wright</td>\n",
       "      <td>5.0</td>\n",
       "    </tr>\n",
       "    <tr>\n",
       "      <th>2</th>\n",
       "      <td>2</td>\n",
       "      <td>8</td>\n",
       "      <td>0060973129</td>\n",
       "      <td>1991</td>\n",
       "      <td>Carlo D'Este</td>\n",
       "      <td>0.0</td>\n",
       "    </tr>\n",
       "    <tr>\n",
       "      <th>3</th>\n",
       "      <td>3</td>\n",
       "      <td>8</td>\n",
       "      <td>0374157065</td>\n",
       "      <td>1999</td>\n",
       "      <td>Gina Bari Kolata</td>\n",
       "      <td>0.0</td>\n",
       "    </tr>\n",
       "    <tr>\n",
       "      <th>4</th>\n",
       "      <td>4</td>\n",
       "      <td>8</td>\n",
       "      <td>0393045218</td>\n",
       "      <td>1999</td>\n",
       "      <td>E. J. W. Barber</td>\n",
       "      <td>0.0</td>\n",
       "    </tr>\n",
       "  </tbody>\n",
       "</table>\n",
       "</div>"
      ],
      "text/plain": [
       "   Unnamed: 0  User-ID        ISBN Year-Of-Publication           Book-Author  \\\n",
       "0           0        2  0195153448                2002    Mark P. O. Morford   \n",
       "1           1        8  0002005018                2001  Richard Bruce Wright   \n",
       "2           2        8  0060973129                1991          Carlo D'Este   \n",
       "3           3        8  0374157065                1999      Gina Bari Kolata   \n",
       "4           4        8  0393045218                1999       E. J. W. Barber   \n",
       "\n",
       "   Book-Rating  \n",
       "0          0.0  \n",
       "1          5.0  \n",
       "2          0.0  \n",
       "3          0.0  \n",
       "4          0.0  "
      ]
     },
     "execution_count": 22,
     "metadata": {},
     "output_type": "execute_result"
    }
   ],
   "source": [
    "grouped_df = pd.read_csv('grouped-data.csv')\n",
    "grouped_df.head()"
   ]
  },
  {
   "cell_type": "code",
   "execution_count": 5,
   "metadata": {},
   "outputs": [
    {
     "name": "stdout",
     "output_type": "stream",
     "text": [
      "40403\n",
      "90341\n",
      "92808\n",
      "96276\n",
      "100690\n",
      "136471\n",
      "188564\n",
      "212656\n",
      "279332\n"
     ]
    },
    {
     "ename": "TypeError",
     "evalue": "expected string or bytes-like object",
     "output_type": "error",
     "traceback": [
      "\u001b[1;31m---------------------------------------------------------------------------\u001b[0m",
      "\u001b[1;31mTypeError\u001b[0m                                 Traceback (most recent call last)",
      "\u001b[1;32mc:\\Users\\brend\\.vscode\\201GroupProject\\group-project-CS201R\\BrendanTest.ipynb Cell 3\u001b[0m in \u001b[0;36m<cell line: 1>\u001b[1;34m()\u001b[0m\n\u001b[0;32m      <a href='vscode-notebook-cell:/c%3A/Users/brend/.vscode/201GroupProject/group-project-CS201R/BrendanTest.ipynb#W5sZmlsZQ%3D%3D?line=0'>1</a>\u001b[0m \u001b[39mfor\u001b[39;00m i \u001b[39min\u001b[39;00m \u001b[39mrange\u001b[39m(\u001b[39mlen\u001b[39m(grouped_df)):\n\u001b[1;32m----> <a href='vscode-notebook-cell:/c%3A/Users/brend/.vscode/201GroupProject/group-project-CS201R/BrendanTest.ipynb#W5sZmlsZQ%3D%3D?line=1'>2</a>\u001b[0m     \u001b[39mif\u001b[39;00m \u001b[39mbool\u001b[39m(re\u001b[39m.\u001b[39;49msearch(\u001b[39m'\u001b[39;49m\u001b[39m\\\u001b[39;49m\u001b[39md\u001b[39;49m\u001b[39m\\\u001b[39;49m\u001b[39md\u001b[39;49m\u001b[39m\\\u001b[39;49m\u001b[39md\u001b[39;49m\u001b[39m\\\u001b[39;49m\u001b[39md\u001b[39;49m\u001b[39m'\u001b[39;49m, grouped_df[\u001b[39m'\u001b[39;49m\u001b[39mBook-Author\u001b[39;49m\u001b[39m'\u001b[39;49m]\u001b[39m.\u001b[39;49miloc[i])):\n\u001b[0;32m      <a href='vscode-notebook-cell:/c%3A/Users/brend/.vscode/201GroupProject/group-project-CS201R/BrendanTest.ipynb#W5sZmlsZQ%3D%3D?line=2'>3</a>\u001b[0m         \u001b[39mprint\u001b[39m(i)\n",
      "File \u001b[1;32mc:\\ProgramData\\Anaconda3\\lib\\re.py:201\u001b[0m, in \u001b[0;36msearch\u001b[1;34m(pattern, string, flags)\u001b[0m\n\u001b[0;32m    198\u001b[0m \u001b[39mdef\u001b[39;00m \u001b[39msearch\u001b[39m(pattern, string, flags\u001b[39m=\u001b[39m\u001b[39m0\u001b[39m):\n\u001b[0;32m    199\u001b[0m     \u001b[39m\"\"\"Scan through string looking for a match to the pattern, returning\u001b[39;00m\n\u001b[0;32m    200\u001b[0m \u001b[39m    a Match object, or None if no match was found.\"\"\"\u001b[39;00m\n\u001b[1;32m--> 201\u001b[0m     \u001b[39mreturn\u001b[39;00m _compile(pattern, flags)\u001b[39m.\u001b[39;49msearch(string)\n",
      "\u001b[1;31mTypeError\u001b[0m: expected string or bytes-like object"
     ]
    }
   ],
   "source": [
    "for i in range(len(grouped_df)):\n",
    "    if bool(re.search('\\d\\d\\d\\d', grouped_df['Book-Author'].iloc[i])):\n",
    "        print(i)"
   ]
  },
  {
   "cell_type": "code",
   "execution_count": 9,
   "metadata": {},
   "outputs": [
    {
     "name": "stdout",
     "output_type": "stream",
     "text": [
      "1405020946   FF 8282 \n",
      "\n",
      "1557236054   Disney My First Sing Csdisn         60623 \n",
      "\n",
      "0160359465   S/N 008-046-00146-4 \n",
      "\n",
      "1405020946   FF 8282 \n",
      "\n",
      "0866835407   BCP7230 \n",
      "\n",
      "1557236054   Disney My First Sing Csdisn         60623 \n",
      "\n",
      "0878423303   Will, 1892-1942 James \n",
      "\n",
      "1557236054   Disney My First Sing Csdisn         60623 \n",
      "\n",
      "0872202291   David, 1711-1776 Hume\n"
     ]
    }
   ],
   "source": [
    "print(grouped_df['ISBN'].iloc[40403], \" \", grouped_df['Book-Author'].iloc[40403], '\\n')\n",
    "print(grouped_df['ISBN'].iloc[90341], \" \", grouped_df['Book-Author'].iloc[90341], '\\n')\n",
    "print(grouped_df['ISBN'].iloc[92808], \" \", grouped_df['Book-Author'].iloc[92808], '\\n')\n",
    "print(grouped_df['ISBN'].iloc[96276], \" \", grouped_df['Book-Author'].iloc[96276], '\\n')\n",
    "print(grouped_df['ISBN'].iloc[100690], \" \", grouped_df['Book-Author'].iloc[100690], '\\n')\n",
    "print(grouped_df['ISBN'].iloc[136471], \" \", grouped_df['Book-Author'].iloc[136471], '\\n')\n",
    "print(grouped_df['ISBN'].iloc[188564], \" \", grouped_df['Book-Author'].iloc[188564], '\\n')\n",
    "print(grouped_df['ISBN'].iloc[212656], \" \", grouped_df['Book-Author'].iloc[212656], '\\n')\n",
    "print(grouped_df['ISBN'].iloc[279332], \" \", grouped_df['Book-Author'].iloc[279332])"
   ]
  },
  {
   "cell_type": "code",
   "execution_count": 3,
   "metadata": {},
   "outputs": [
    {
     "name": "stdout",
     "output_type": "stream",
     "text": [
      "647294\n",
      "1031136\n",
      "0.6277484250380163\n"
     ]
    }
   ],
   "source": [
    "# percent of the book rating column is 0\n",
    "print(len(grouped_df[grouped_df['Book-Rating'] == 0]))\n",
    "print(len(grouped_df))\n",
    "print(len(grouped_df[grouped_df['Book-Rating'] == 0]) / len(grouped_df))"
   ]
  },
  {
   "cell_type": "code",
   "execution_count": 24,
   "metadata": {},
   "outputs": [
    {
     "name": "stdout",
     "output_type": "stream",
     "text": [
      "markpomorford\n",
      "richardbrucewright\n",
      "carlodeste\n",
      "ginabarikolata\n",
      "ejwbarber\n",
      "amytan\n",
      "robertcowley\n",
      "scottturow\n",
      "davidcordingly\n",
      "annbeattie\n",
      "davidadamsrichards\n",
      "adamlebor\n",
      "sheilaheti\n",
      "rjkaiser\n",
      "jackcanfield\n",
      "lorendestleman\n",
      "roberthendrickson\n",
      "juliaoliver\n",
      "johngrisham\n",
      "tonimorrison\n",
      "theonion\n",
      "celiabrooksbrown\n",
      "jrparrish\n",
      "marykateampashleyolsen\n",
      "robynnclairday\n",
      "kathleenduey\n",
      "richshapero\n",
      "michaelcrichton\n",
      "michaelcrichton\n",
      "rosamundepilcher\n"
     ]
    }
   ],
   "source": [
    "grouped_df['Book-Author-key'] = grouped_df['Book-Author']\n",
    "grouped_df['Book-Author-key'] = grouped_df['Book-Author-key'].apply(lambda x: str(x).replace(\".\", \"\"))\n",
    "grouped_df['Book-Author-key'] = grouped_df['Book-Author-key'].apply(lambda x: str(x).replace(\",\", \"\"))\n",
    "grouped_df['Book-Author-key'] = grouped_df['Book-Author-key'].apply(lambda x: str(x).replace(\"\\'\", \"\"))\n",
    "grouped_df['Book-Author-key'] = grouped_df['Book-Author-key'].apply(lambda x: str(x).replace(\";\", \"\"))\n",
    "grouped_df['Book-Author-key'] = grouped_df['Book-Author-key'].apply(lambda x: str(x).replace(\"-\", \"\"))\n",
    "grouped_df['Book-Author-key'] = grouped_df['Book-Author-key'].apply(lambda x: str(x).replace(\"&\", \"\"))\n",
    "\n",
    "grouped_df['Book-Author-key'] = grouped_df['Book-Author-key'].apply(lambda x: str(x).replace(\" \", \"\"))\n",
    "grouped_df['Book-Author-key'] = grouped_df['Book-Author-key'].apply(lambda x: str(x).lower())\n",
    "\n",
    "for i in range(30):\n",
    "    print(grouped_df['Book-Author-key'].iloc[i])"
   ]
  },
  {
   "cell_type": "code",
   "execution_count": 42,
   "metadata": {},
   "outputs": [
    {
     "ename": "KeyError",
     "evalue": "480245",
     "output_type": "error",
     "traceback": [
      "\u001b[1;31m---------------------------------------------------------------------------\u001b[0m",
      "\u001b[1;31mKeyError\u001b[0m                                  Traceback (most recent call last)",
      "File \u001b[1;32mc:\\ProgramData\\Anaconda3\\lib\\site-packages\\pandas\\core\\indexes\\base.py:3621\u001b[0m, in \u001b[0;36mIndex.get_loc\u001b[1;34m(self, key, method, tolerance)\u001b[0m\n\u001b[0;32m   3620\u001b[0m \u001b[39mtry\u001b[39;00m:\n\u001b[1;32m-> 3621\u001b[0m     \u001b[39mreturn\u001b[39;00m \u001b[39mself\u001b[39;49m\u001b[39m.\u001b[39;49m_engine\u001b[39m.\u001b[39;49mget_loc(casted_key)\n\u001b[0;32m   3622\u001b[0m \u001b[39mexcept\u001b[39;00m \u001b[39mKeyError\u001b[39;00m \u001b[39mas\u001b[39;00m err:\n",
      "File \u001b[1;32mc:\\ProgramData\\Anaconda3\\lib\\site-packages\\pandas\\_libs\\index.pyx:136\u001b[0m, in \u001b[0;36mpandas._libs.index.IndexEngine.get_loc\u001b[1;34m()\u001b[0m\n",
      "File \u001b[1;32mc:\\ProgramData\\Anaconda3\\lib\\site-packages\\pandas\\_libs\\index.pyx:155\u001b[0m, in \u001b[0;36mpandas._libs.index.IndexEngine.get_loc\u001b[1;34m()\u001b[0m\n",
      "\u001b[1;31mKeyError\u001b[0m: 480245",
      "\nThe above exception was the direct cause of the following exception:\n",
      "\u001b[1;31mKeyError\u001b[0m                                  Traceback (most recent call last)",
      "\u001b[1;32mc:\\Users\\brend\\.vscode\\201GroupProject\\group-project-CS201R\\BrendanTest.ipynb Cell 5\u001b[0m in \u001b[0;36m<cell line: 14>\u001b[1;34m()\u001b[0m\n\u001b[0;32m     <a href='vscode-notebook-cell:/c%3A/Users/brend/.vscode/201GroupProject/group-project-CS201R/BrendanTest.ipynb#W4sZmlsZQ%3D%3D?line=12'>13</a>\u001b[0m \u001b[39mprint\u001b[39m(\u001b[39mtype\u001b[39m(cleaned_df[\u001b[39m'\u001b[39m\u001b[39mYear-Of-Publication\u001b[39m\u001b[39m'\u001b[39m][\u001b[39m0\u001b[39m]))\n\u001b[0;32m     <a href='vscode-notebook-cell:/c%3A/Users/brend/.vscode/201GroupProject/group-project-CS201R/BrendanTest.ipynb#W4sZmlsZQ%3D%3D?line=13'>14</a>\u001b[0m \u001b[39mfor\u001b[39;00m i \u001b[39min\u001b[39;00m \u001b[39mrange\u001b[39m(\u001b[39mlen\u001b[39m(cleaned_df)):\n\u001b[1;32m---> <a href='vscode-notebook-cell:/c%3A/Users/brend/.vscode/201GroupProject/group-project-CS201R/BrendanTest.ipynb#W4sZmlsZQ%3D%3D?line=14'>15</a>\u001b[0m     \u001b[39mif\u001b[39;00m \u001b[39mint\u001b[39m(cleaned_df[\u001b[39m'\u001b[39;49m\u001b[39mYear-Of-Publication\u001b[39;49m\u001b[39m'\u001b[39;49m][i]) \u001b[39m==\u001b[39m \u001b[39m0\u001b[39m:\n\u001b[0;32m     <a href='vscode-notebook-cell:/c%3A/Users/brend/.vscode/201GroupProject/group-project-CS201R/BrendanTest.ipynb#W4sZmlsZQ%3D%3D?line=15'>16</a>\u001b[0m         \u001b[39mprint\u001b[39m(cleaned_df\u001b[39m.\u001b[39miloc[i])\n\u001b[0;32m     <a href='vscode-notebook-cell:/c%3A/Users/brend/.vscode/201GroupProject/group-project-CS201R/BrendanTest.ipynb#W4sZmlsZQ%3D%3D?line=16'>17</a>\u001b[0m         \u001b[39mprint\u001b[39m(\u001b[39m\"\u001b[39m\u001b[39m\\n\u001b[39;00m\u001b[39m\"\u001b[39m)\n",
      "File \u001b[1;32mc:\\ProgramData\\Anaconda3\\lib\\site-packages\\pandas\\core\\series.py:958\u001b[0m, in \u001b[0;36mSeries.__getitem__\u001b[1;34m(self, key)\u001b[0m\n\u001b[0;32m    955\u001b[0m     \u001b[39mreturn\u001b[39;00m \u001b[39mself\u001b[39m\u001b[39m.\u001b[39m_values[key]\n\u001b[0;32m    957\u001b[0m \u001b[39melif\u001b[39;00m key_is_scalar:\n\u001b[1;32m--> 958\u001b[0m     \u001b[39mreturn\u001b[39;00m \u001b[39mself\u001b[39;49m\u001b[39m.\u001b[39;49m_get_value(key)\n\u001b[0;32m    960\u001b[0m \u001b[39mif\u001b[39;00m is_hashable(key):\n\u001b[0;32m    961\u001b[0m     \u001b[39m# Otherwise index.get_value will raise InvalidIndexError\u001b[39;00m\n\u001b[0;32m    962\u001b[0m     \u001b[39mtry\u001b[39;00m:\n\u001b[0;32m    963\u001b[0m         \u001b[39m# For labels that don't resolve as scalars like tuples and frozensets\u001b[39;00m\n",
      "File \u001b[1;32mc:\\ProgramData\\Anaconda3\\lib\\site-packages\\pandas\\core\\series.py:1069\u001b[0m, in \u001b[0;36mSeries._get_value\u001b[1;34m(self, label, takeable)\u001b[0m\n\u001b[0;32m   1066\u001b[0m     \u001b[39mreturn\u001b[39;00m \u001b[39mself\u001b[39m\u001b[39m.\u001b[39m_values[label]\n\u001b[0;32m   1068\u001b[0m \u001b[39m# Similar to Index.get_value, but we do not fall back to positional\u001b[39;00m\n\u001b[1;32m-> 1069\u001b[0m loc \u001b[39m=\u001b[39m \u001b[39mself\u001b[39;49m\u001b[39m.\u001b[39;49mindex\u001b[39m.\u001b[39;49mget_loc(label)\n\u001b[0;32m   1070\u001b[0m \u001b[39mreturn\u001b[39;00m \u001b[39mself\u001b[39m\u001b[39m.\u001b[39mindex\u001b[39m.\u001b[39m_get_values_for_loc(\u001b[39mself\u001b[39m, loc, label)\n",
      "File \u001b[1;32mc:\\ProgramData\\Anaconda3\\lib\\site-packages\\pandas\\core\\indexes\\base.py:3623\u001b[0m, in \u001b[0;36mIndex.get_loc\u001b[1;34m(self, key, method, tolerance)\u001b[0m\n\u001b[0;32m   3621\u001b[0m     \u001b[39mreturn\u001b[39;00m \u001b[39mself\u001b[39m\u001b[39m.\u001b[39m_engine\u001b[39m.\u001b[39mget_loc(casted_key)\n\u001b[0;32m   3622\u001b[0m \u001b[39mexcept\u001b[39;00m \u001b[39mKeyError\u001b[39;00m \u001b[39mas\u001b[39;00m err:\n\u001b[1;32m-> 3623\u001b[0m     \u001b[39mraise\u001b[39;00m \u001b[39mKeyError\u001b[39;00m(key) \u001b[39mfrom\u001b[39;00m \u001b[39merr\u001b[39;00m\n\u001b[0;32m   3624\u001b[0m \u001b[39mexcept\u001b[39;00m \u001b[39mTypeError\u001b[39;00m:\n\u001b[0;32m   3625\u001b[0m     \u001b[39m# If we have a listlike key, _check_indexing_error will raise\u001b[39;00m\n\u001b[0;32m   3626\u001b[0m     \u001b[39m#  InvalidIndexError. Otherwise we fall through and re-raise\u001b[39;00m\n\u001b[0;32m   3627\u001b[0m     \u001b[39m#  the TypeError.\u001b[39;00m\n\u001b[0;32m   3628\u001b[0m     \u001b[39mself\u001b[39m\u001b[39m.\u001b[39m_check_indexing_error(key)\n",
      "\u001b[1;31mKeyError\u001b[0m: 480245"
     ]
    }
   ],
   "source": [
    "# grouped_df.describe()\n",
    "# cleaned_df = grouped_df\n",
    "# cleaned_df.drop([480245, 614116, 833993], axis='index', inplace=True)\n",
    "\n",
    "import sys\n",
    "\n",
    "orig_stdout = sys.stdout\n",
    "f = open('out.txt', 'w')\n",
    "sys.stdout = f\n",
    "\n",
    "# for i in range(2):\n",
    "#     print('i = ', i)\n",
    "print(type(cleaned_df['Year-Of-Publication'][0]))\n",
    "for i in range(len(cleaned_df)):\n",
    "    if int(cleaned_df['Year-Of-Publication'][i]) == 0:\n",
    "        print(cleaned_df.iloc[i])\n",
    "        print(\"\\n\")\n",
    "\n",
    "sys.stdout = orig_stdout\n",
    "f.close()\n",
    "\n"
   ]
  }
 ],
 "metadata": {
  "kernelspec": {
   "display_name": "base",
   "language": "python",
   "name": "python3"
  },
  "language_info": {
   "codemirror_mode": {
    "name": "ipython",
    "version": 3
   },
   "file_extension": ".py",
   "mimetype": "text/x-python",
   "name": "python",
   "nbconvert_exporter": "python",
   "pygments_lexer": "ipython3",
   "version": "3.9.12"
  },
  "orig_nbformat": 4
 },
 "nbformat": 4,
 "nbformat_minor": 2
}
